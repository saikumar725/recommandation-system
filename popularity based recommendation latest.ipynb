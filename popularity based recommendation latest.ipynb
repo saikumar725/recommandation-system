{
 "cells": [
  {
   "cell_type": "markdown",
   "id": "db2569c4",
   "metadata": {},
   "source": [
    "# Importing packages"
   ]
  },
  {
   "cell_type": "code",
   "execution_count": 2,
   "id": "ec85f6cb",
   "metadata": {},
   "outputs": [],
   "source": [
    "import warnings\n",
    "import pandas as pd\n",
    "import numpy as np\n",
    "import matplotlib.pyplot as plt\n",
    "import seaborn as sns\n",
    "warnings.filterwarnings('ignore')"
   ]
  },
  {
   "cell_type": "markdown",
   "id": "742bbf5f",
   "metadata": {},
   "source": [
    "# Loading the dataset"
   ]
  },
  {
   "cell_type": "markdown",
   "id": "dd24bb17",
   "metadata": {},
   "source": [
    "###  Triplets file"
   ]
  },
  {
   "cell_type": "code",
   "execution_count": 3,
   "id": "fb5e0104",
   "metadata": {},
   "outputs": [],
   "source": [
    "triplet=pd.read_csv('C:/Users/every/Downloads/innomatics/project/data/kaggle/kaggle_visible_evaluation_triplets.txt',sep='\\t',names=['user_id','song_id','freq'])"
   ]
  },
  {
   "cell_type": "code",
   "execution_count": 4,
   "id": "10677d0e",
   "metadata": {},
   "outputs": [
    {
     "data": {
      "text/plain": [
       "(1450933, 3)"
      ]
     },
     "execution_count": 4,
     "metadata": {},
     "output_type": "execute_result"
    }
   ],
   "source": [
    "triplet.shape"
   ]
  },
  {
   "cell_type": "markdown",
   "id": "3bb5b387",
   "metadata": {},
   "source": [
    "### Track file"
   ]
  },
  {
   "cell_type": "code",
   "execution_count": 5,
   "id": "7b679ccc",
   "metadata": {},
   "outputs": [],
   "source": [
    "track=pd.read_csv('C:/Users/every/Downloads/innomatics/project/data/kaggle/unique_tracks.txt',sep='<SEP>',names= ['track', 'song_id', 'title' ,'artist_name'])"
   ]
  },
  {
   "cell_type": "code",
   "execution_count": 6,
   "id": "e0e0d4ac",
   "metadata": {},
   "outputs": [
    {
     "data": {
      "text/plain": [
       "(1000000, 4)"
      ]
     },
     "execution_count": 6,
     "metadata": {},
     "output_type": "execute_result"
    }
   ],
   "source": [
    "track.shape"
   ]
  },
  {
   "cell_type": "markdown",
   "id": "8ea8b07f",
   "metadata": {},
   "source": [
    "# Combine both datasets"
   ]
  },
  {
   "cell_type": "code",
   "execution_count": 7,
   "id": "2c6b28b6",
   "metadata": {},
   "outputs": [],
   "source": [
    "song_df = pd.merge(triplet, track.drop_duplicates(['song_id']), on = 'song_id')"
   ]
  },
  {
   "cell_type": "code",
   "execution_count": 8,
   "id": "c0ff7f81",
   "metadata": {},
   "outputs": [
    {
     "data": {
      "text/html": [
       "<div>\n",
       "<style scoped>\n",
       "    .dataframe tbody tr th:only-of-type {\n",
       "        vertical-align: middle;\n",
       "    }\n",
       "\n",
       "    .dataframe tbody tr th {\n",
       "        vertical-align: top;\n",
       "    }\n",
       "\n",
       "    .dataframe thead th {\n",
       "        text-align: right;\n",
       "    }\n",
       "</style>\n",
       "<table border=\"1\" class=\"dataframe\">\n",
       "  <thead>\n",
       "    <tr style=\"text-align: right;\">\n",
       "      <th></th>\n",
       "      <th>user_id</th>\n",
       "      <th>song_id</th>\n",
       "      <th>freq</th>\n",
       "      <th>track</th>\n",
       "      <th>title</th>\n",
       "      <th>artist_name</th>\n",
       "    </tr>\n",
       "  </thead>\n",
       "  <tbody>\n",
       "    <tr>\n",
       "      <th>0</th>\n",
       "      <td>fd50c4007b68a3737fe052d5a4f78ce8aa117f3d</td>\n",
       "      <td>SOBONKR12A58A7A7E0</td>\n",
       "      <td>1</td>\n",
       "      <td>TRAEHHJ12903CF492F</td>\n",
       "      <td>Dwight Yoakam</td>\n",
       "      <td>You're The One</td>\n",
       "    </tr>\n",
       "    <tr>\n",
       "      <th>1</th>\n",
       "      <td>c34670d9c1718361feb93068a853cead3c95b76a</td>\n",
       "      <td>SOBONKR12A58A7A7E0</td>\n",
       "      <td>1</td>\n",
       "      <td>TRAEHHJ12903CF492F</td>\n",
       "      <td>Dwight Yoakam</td>\n",
       "      <td>You're The One</td>\n",
       "    </tr>\n",
       "    <tr>\n",
       "      <th>2</th>\n",
       "      <td>c5006d9f41f68ccccbf5ee29212b6af494110c5e</td>\n",
       "      <td>SOBONKR12A58A7A7E0</td>\n",
       "      <td>1</td>\n",
       "      <td>TRAEHHJ12903CF492F</td>\n",
       "      <td>Dwight Yoakam</td>\n",
       "      <td>You're The One</td>\n",
       "    </tr>\n",
       "    <tr>\n",
       "      <th>3</th>\n",
       "      <td>e4332e11f4df6dd26673bb6b085e9a2bbdc9b8a5</td>\n",
       "      <td>SOBONKR12A58A7A7E0</td>\n",
       "      <td>2</td>\n",
       "      <td>TRAEHHJ12903CF492F</td>\n",
       "      <td>Dwight Yoakam</td>\n",
       "      <td>You're The One</td>\n",
       "    </tr>\n",
       "    <tr>\n",
       "      <th>4</th>\n",
       "      <td>baf2fe5885ab93fbbdb7fecc6691788e70afb6c8</td>\n",
       "      <td>SOBONKR12A58A7A7E0</td>\n",
       "      <td>4</td>\n",
       "      <td>TRAEHHJ12903CF492F</td>\n",
       "      <td>Dwight Yoakam</td>\n",
       "      <td>You're The One</td>\n",
       "    </tr>\n",
       "  </tbody>\n",
       "</table>\n",
       "</div>"
      ],
      "text/plain": [
       "                                    user_id             song_id  freq  \\\n",
       "0  fd50c4007b68a3737fe052d5a4f78ce8aa117f3d  SOBONKR12A58A7A7E0     1   \n",
       "1  c34670d9c1718361feb93068a853cead3c95b76a  SOBONKR12A58A7A7E0     1   \n",
       "2  c5006d9f41f68ccccbf5ee29212b6af494110c5e  SOBONKR12A58A7A7E0     1   \n",
       "3  e4332e11f4df6dd26673bb6b085e9a2bbdc9b8a5  SOBONKR12A58A7A7E0     2   \n",
       "4  baf2fe5885ab93fbbdb7fecc6691788e70afb6c8  SOBONKR12A58A7A7E0     4   \n",
       "\n",
       "                track          title     artist_name  \n",
       "0  TRAEHHJ12903CF492F  Dwight Yoakam  You're The One  \n",
       "1  TRAEHHJ12903CF492F  Dwight Yoakam  You're The One  \n",
       "2  TRAEHHJ12903CF492F  Dwight Yoakam  You're The One  \n",
       "3  TRAEHHJ12903CF492F  Dwight Yoakam  You're The One  \n",
       "4  TRAEHHJ12903CF492F  Dwight Yoakam  You're The One  "
      ]
     },
     "execution_count": 8,
     "metadata": {},
     "output_type": "execute_result"
    }
   ],
   "source": [
    "song_df.head()\n"
   ]
  },
  {
   "cell_type": "code",
   "execution_count": 9,
   "id": "6e4c9dd3",
   "metadata": {},
   "outputs": [
    {
     "data": {
      "text/plain": [
       "(1450933, 6)"
      ]
     },
     "execution_count": 9,
     "metadata": {},
     "output_type": "execute_result"
    }
   ],
   "source": [
    "song_df.shape"
   ]
  },
  {
   "cell_type": "code",
   "execution_count": 10,
   "id": "0fb63ab9",
   "metadata": {},
   "outputs": [
    {
     "data": {
      "text/html": [
       "<div>\n",
       "<style scoped>\n",
       "    .dataframe tbody tr th:only-of-type {\n",
       "        vertical-align: middle;\n",
       "    }\n",
       "\n",
       "    .dataframe tbody tr th {\n",
       "        vertical-align: top;\n",
       "    }\n",
       "\n",
       "    .dataframe thead th {\n",
       "        text-align: right;\n",
       "    }\n",
       "</style>\n",
       "<table border=\"1\" class=\"dataframe\">\n",
       "  <thead>\n",
       "    <tr style=\"text-align: right;\">\n",
       "      <th></th>\n",
       "      <th>freq</th>\n",
       "    </tr>\n",
       "  </thead>\n",
       "  <tbody>\n",
       "    <tr>\n",
       "      <th>count</th>\n",
       "      <td>1.450933e+06</td>\n",
       "    </tr>\n",
       "    <tr>\n",
       "      <th>mean</th>\n",
       "      <td>3.187149e+00</td>\n",
       "    </tr>\n",
       "    <tr>\n",
       "      <th>std</th>\n",
       "      <td>7.051664e+00</td>\n",
       "    </tr>\n",
       "    <tr>\n",
       "      <th>min</th>\n",
       "      <td>1.000000e+00</td>\n",
       "    </tr>\n",
       "    <tr>\n",
       "      <th>25%</th>\n",
       "      <td>1.000000e+00</td>\n",
       "    </tr>\n",
       "    <tr>\n",
       "      <th>50%</th>\n",
       "      <td>1.000000e+00</td>\n",
       "    </tr>\n",
       "    <tr>\n",
       "      <th>75%</th>\n",
       "      <td>3.000000e+00</td>\n",
       "    </tr>\n",
       "    <tr>\n",
       "      <th>max</th>\n",
       "      <td>9.230000e+02</td>\n",
       "    </tr>\n",
       "  </tbody>\n",
       "</table>\n",
       "</div>"
      ],
      "text/plain": [
       "               freq\n",
       "count  1.450933e+06\n",
       "mean   3.187149e+00\n",
       "std    7.051664e+00\n",
       "min    1.000000e+00\n",
       "25%    1.000000e+00\n",
       "50%    1.000000e+00\n",
       "75%    3.000000e+00\n",
       "max    9.230000e+02"
      ]
     },
     "execution_count": 10,
     "metadata": {},
     "output_type": "execute_result"
    }
   ],
   "source": [
    "song_df.describe()"
   ]
  },
  {
   "cell_type": "code",
   "execution_count": 11,
   "id": "a08184dd",
   "metadata": {},
   "outputs": [
    {
     "name": "stdout",
     "output_type": "stream",
     "text": [
      "<class 'pandas.core.frame.DataFrame'>\n",
      "Int64Index: 1450933 entries, 0 to 1450932\n",
      "Data columns (total 6 columns):\n",
      " #   Column       Non-Null Count    Dtype \n",
      "---  ------       --------------    ----- \n",
      " 0   user_id      1450933 non-null  object\n",
      " 1   song_id      1450933 non-null  object\n",
      " 2   freq         1450933 non-null  int64 \n",
      " 3   track        1450933 non-null  object\n",
      " 4   title        1450933 non-null  object\n",
      " 5   artist_name  1450932 non-null  object\n",
      "dtypes: int64(1), object(5)\n",
      "memory usage: 77.5+ MB\n"
     ]
    }
   ],
   "source": [
    "song_df.info()"
   ]
  },
  {
   "cell_type": "code",
   "execution_count": 12,
   "id": "fe65b2c0",
   "metadata": {},
   "outputs": [
    {
     "data": {
      "text/plain": [
       "user_id        0\n",
       "song_id        0\n",
       "freq           0\n",
       "track          0\n",
       "title          0\n",
       "artist_name    1\n",
       "dtype: int64"
      ]
     },
     "execution_count": 12,
     "metadata": {},
     "output_type": "execute_result"
    }
   ],
   "source": [
    "song_df.isnull().sum()"
   ]
  },
  {
   "cell_type": "markdown",
   "id": "131001d8",
   "metadata": {},
   "source": [
    "# Data Preprocessing"
   ]
  },
  {
   "cell_type": "code",
   "execution_count": 13,
   "id": "8145ce0e",
   "metadata": {},
   "outputs": [
    {
     "data": {
      "text/html": [
       "<div>\n",
       "<style scoped>\n",
       "    .dataframe tbody tr th:only-of-type {\n",
       "        vertical-align: middle;\n",
       "    }\n",
       "\n",
       "    .dataframe tbody tr th {\n",
       "        vertical-align: top;\n",
       "    }\n",
       "\n",
       "    .dataframe thead th {\n",
       "        text-align: right;\n",
       "    }\n",
       "</style>\n",
       "<table border=\"1\" class=\"dataframe\">\n",
       "  <thead>\n",
       "    <tr style=\"text-align: right;\">\n",
       "      <th></th>\n",
       "      <th>user_id</th>\n",
       "      <th>song_id</th>\n",
       "      <th>freq</th>\n",
       "      <th>track</th>\n",
       "      <th>title</th>\n",
       "      <th>artist_name</th>\n",
       "      <th>song</th>\n",
       "    </tr>\n",
       "  </thead>\n",
       "  <tbody>\n",
       "    <tr>\n",
       "      <th>0</th>\n",
       "      <td>fd50c4007b68a3737fe052d5a4f78ce8aa117f3d</td>\n",
       "      <td>SOBONKR12A58A7A7E0</td>\n",
       "      <td>1</td>\n",
       "      <td>TRAEHHJ12903CF492F</td>\n",
       "      <td>Dwight Yoakam</td>\n",
       "      <td>You're The One</td>\n",
       "      <td>Dwight Yoakam - You're The One</td>\n",
       "    </tr>\n",
       "    <tr>\n",
       "      <th>1</th>\n",
       "      <td>c34670d9c1718361feb93068a853cead3c95b76a</td>\n",
       "      <td>SOBONKR12A58A7A7E0</td>\n",
       "      <td>1</td>\n",
       "      <td>TRAEHHJ12903CF492F</td>\n",
       "      <td>Dwight Yoakam</td>\n",
       "      <td>You're The One</td>\n",
       "      <td>Dwight Yoakam - You're The One</td>\n",
       "    </tr>\n",
       "    <tr>\n",
       "      <th>2</th>\n",
       "      <td>c5006d9f41f68ccccbf5ee29212b6af494110c5e</td>\n",
       "      <td>SOBONKR12A58A7A7E0</td>\n",
       "      <td>1</td>\n",
       "      <td>TRAEHHJ12903CF492F</td>\n",
       "      <td>Dwight Yoakam</td>\n",
       "      <td>You're The One</td>\n",
       "      <td>Dwight Yoakam - You're The One</td>\n",
       "    </tr>\n",
       "    <tr>\n",
       "      <th>3</th>\n",
       "      <td>e4332e11f4df6dd26673bb6b085e9a2bbdc9b8a5</td>\n",
       "      <td>SOBONKR12A58A7A7E0</td>\n",
       "      <td>2</td>\n",
       "      <td>TRAEHHJ12903CF492F</td>\n",
       "      <td>Dwight Yoakam</td>\n",
       "      <td>You're The One</td>\n",
       "      <td>Dwight Yoakam - You're The One</td>\n",
       "    </tr>\n",
       "    <tr>\n",
       "      <th>4</th>\n",
       "      <td>baf2fe5885ab93fbbdb7fecc6691788e70afb6c8</td>\n",
       "      <td>SOBONKR12A58A7A7E0</td>\n",
       "      <td>4</td>\n",
       "      <td>TRAEHHJ12903CF492F</td>\n",
       "      <td>Dwight Yoakam</td>\n",
       "      <td>You're The One</td>\n",
       "      <td>Dwight Yoakam - You're The One</td>\n",
       "    </tr>\n",
       "  </tbody>\n",
       "</table>\n",
       "</div>"
      ],
      "text/plain": [
       "                                    user_id             song_id  freq  \\\n",
       "0  fd50c4007b68a3737fe052d5a4f78ce8aa117f3d  SOBONKR12A58A7A7E0     1   \n",
       "1  c34670d9c1718361feb93068a853cead3c95b76a  SOBONKR12A58A7A7E0     1   \n",
       "2  c5006d9f41f68ccccbf5ee29212b6af494110c5e  SOBONKR12A58A7A7E0     1   \n",
       "3  e4332e11f4df6dd26673bb6b085e9a2bbdc9b8a5  SOBONKR12A58A7A7E0     2   \n",
       "4  baf2fe5885ab93fbbdb7fecc6691788e70afb6c8  SOBONKR12A58A7A7E0     4   \n",
       "\n",
       "                track          title     artist_name  \\\n",
       "0  TRAEHHJ12903CF492F  Dwight Yoakam  You're The One   \n",
       "1  TRAEHHJ12903CF492F  Dwight Yoakam  You're The One   \n",
       "2  TRAEHHJ12903CF492F  Dwight Yoakam  You're The One   \n",
       "3  TRAEHHJ12903CF492F  Dwight Yoakam  You're The One   \n",
       "4  TRAEHHJ12903CF492F  Dwight Yoakam  You're The One   \n",
       "\n",
       "                             song  \n",
       "0  Dwight Yoakam - You're The One  \n",
       "1  Dwight Yoakam - You're The One  \n",
       "2  Dwight Yoakam - You're The One  \n",
       "3  Dwight Yoakam - You're The One  \n",
       "4  Dwight Yoakam - You're The One  "
      ]
     },
     "execution_count": 13,
     "metadata": {},
     "output_type": "execute_result"
    }
   ],
   "source": [
    "song_df['song'] = song_df['title']+' - '+song_df['artist_name']\n",
    "song_df.head()"
   ]
  },
  {
   "cell_type": "markdown",
   "id": "98cae5fc",
   "metadata": {},
   "source": [
    "# Basic statistics"
   ]
  },
  {
   "cell_type": "code",
   "execution_count": 14,
   "id": "1e46d071",
   "metadata": {},
   "outputs": [
    {
     "name": "stdout",
     "output_type": "stream",
     "text": [
      "Toatal no of users: 110000\n",
      "Toatal no of songID: 163206\n",
      "Toatal no of freq: 299\n",
      "Toatal no of track: 163206\n",
      "Toatal no of title: 28361\n",
      "Toatal no of artist: 137622\n",
      "Toatal no of song: 162043\n"
     ]
    }
   ],
   "source": [
    "print(\"Toatal no of users:\",song_df['user_id'].nunique())\n",
    "print(\"Toatal no of songID:\",song_df['song_id'].nunique())\n",
    "print(\"Toatal no of freq:\",song_df['freq'].nunique())\n",
    "print(\"Toatal no of track:\",song_df['track'].nunique())\n",
    "print(\"Toatal no of title:\",song_df['title'].nunique())\n",
    "print(\"Toatal no of artist:\",song_df['artist_name'].nunique())\n",
    "print(\"Toatal no of song:\",song_df['song'].nunique())"
   ]
  },
  {
   "cell_type": "markdown",
   "id": "8521dca1",
   "metadata": {},
   "source": [
    "# Most popular songs"
   ]
  },
  {
   "cell_type": "code",
   "execution_count": 15,
   "id": "de39113c",
   "metadata": {},
   "outputs": [],
   "source": [
    "song_grouped = song_df.groupby(['song']).agg({'freq':'count'}).reset_index()\n"
   ]
  },
  {
   "cell_type": "code",
   "execution_count": 16,
   "id": "05a2398f",
   "metadata": {},
   "outputs": [
    {
     "data": {
      "text/html": [
       "<div>\n",
       "<style scoped>\n",
       "    .dataframe tbody tr th:only-of-type {\n",
       "        vertical-align: middle;\n",
       "    }\n",
       "\n",
       "    .dataframe tbody tr th {\n",
       "        vertical-align: top;\n",
       "    }\n",
       "\n",
       "    .dataframe thead th {\n",
       "        text-align: right;\n",
       "    }\n",
       "</style>\n",
       "<table border=\"1\" class=\"dataframe\">\n",
       "  <thead>\n",
       "    <tr style=\"text-align: right;\">\n",
       "      <th></th>\n",
       "      <th>song</th>\n",
       "      <th>freq</th>\n",
       "      <th>percentage</th>\n",
       "    </tr>\n",
       "  </thead>\n",
       "  <tbody>\n",
       "    <tr>\n",
       "      <th>59878</th>\n",
       "      <td>Harmonia - Sehr kosmisch</td>\n",
       "      <td>5043</td>\n",
       "      <td>0.347570</td>\n",
       "    </tr>\n",
       "    <tr>\n",
       "      <th>17175</th>\n",
       "      <td>Björk - Undo</td>\n",
       "      <td>4483</td>\n",
       "      <td>0.308974</td>\n",
       "    </tr>\n",
       "    <tr>\n",
       "      <th>42714</th>\n",
       "      <td>Dwight Yoakam - You're The One</td>\n",
       "      <td>4136</td>\n",
       "      <td>0.285058</td>\n",
       "    </tr>\n",
       "    <tr>\n",
       "      <th>51326</th>\n",
       "      <td>Florence + The Machine - Dog Days Are Over (Ra...</td>\n",
       "      <td>3780</td>\n",
       "      <td>0.260522</td>\n",
       "    </tr>\n",
       "    <tr>\n",
       "      <th>77664</th>\n",
       "      <td>Kings Of Leon - Revelry</td>\n",
       "      <td>3672</td>\n",
       "      <td>0.253079</td>\n",
       "    </tr>\n",
       "    <tr>\n",
       "      <th>104295</th>\n",
       "      <td>OneRepublic - Secrets</td>\n",
       "      <td>3430</td>\n",
       "      <td>0.236400</td>\n",
       "    </tr>\n",
       "    <tr>\n",
       "      <th>13348</th>\n",
       "      <td>Barry Tuckwell/Academy of St Martin-in-the-Fie...</td>\n",
       "      <td>3272</td>\n",
       "      <td>0.225510</td>\n",
       "    </tr>\n",
       "    <tr>\n",
       "      <th>151720</th>\n",
       "      <td>Train - Hey_ Soul Sister</td>\n",
       "      <td>2791</td>\n",
       "      <td>0.192359</td>\n",
       "    </tr>\n",
       "    <tr>\n",
       "      <th>27290</th>\n",
       "      <td>Charttraxx Karaoke - Fireflies</td>\n",
       "      <td>2725</td>\n",
       "      <td>0.187810</td>\n",
       "    </tr>\n",
       "    <tr>\n",
       "      <th>25696</th>\n",
       "      <td>Cartola - Tive Sim</td>\n",
       "      <td>2668</td>\n",
       "      <td>0.183882</td>\n",
       "    </tr>\n",
       "  </tbody>\n",
       "</table>\n",
       "</div>"
      ],
      "text/plain": [
       "                                                     song  freq  percentage\n",
       "59878                            Harmonia - Sehr kosmisch  5043    0.347570\n",
       "17175                                        Björk - Undo  4483    0.308974\n",
       "42714                      Dwight Yoakam - You're The One  4136    0.285058\n",
       "51326   Florence + The Machine - Dog Days Are Over (Ra...  3780    0.260522\n",
       "77664                             Kings Of Leon - Revelry  3672    0.253079\n",
       "104295                              OneRepublic - Secrets  3430    0.236400\n",
       "13348   Barry Tuckwell/Academy of St Martin-in-the-Fie...  3272    0.225510\n",
       "151720                           Train - Hey_ Soul Sister  2791    0.192359\n",
       "27290                      Charttraxx Karaoke - Fireflies  2725    0.187810\n",
       "25696                                  Cartola - Tive Sim  2668    0.183882"
      ]
     },
     "execution_count": 16,
     "metadata": {},
     "output_type": "execute_result"
    }
   ],
   "source": [
    "grouped_sum = song_grouped['freq'].sum()\n",
    "song_grouped['percentage'] = (song_grouped['freq'] / grouped_sum ) * 100\n",
    "df=song_grouped.sort_values(['freq', 'song'], ascending=[0,1])\n",
    "df.head(10)"
   ]
  },
  {
   "cell_type": "markdown",
   "id": "f8f041fe",
   "metadata": {},
   "source": [
    "# Most popular songs"
   ]
  },
  {
   "cell_type": "code",
   "execution_count": 17,
   "id": "7c506c06",
   "metadata": {},
   "outputs": [
    {
     "data": {
      "text/html": [
       "<div>\n",
       "<style scoped>\n",
       "    .dataframe tbody tr th:only-of-type {\n",
       "        vertical-align: middle;\n",
       "    }\n",
       "\n",
       "    .dataframe tbody tr th {\n",
       "        vertical-align: top;\n",
       "    }\n",
       "\n",
       "    .dataframe thead th {\n",
       "        text-align: right;\n",
       "    }\n",
       "</style>\n",
       "<table border=\"1\" class=\"dataframe\">\n",
       "  <thead>\n",
       "    <tr style=\"text-align: right;\">\n",
       "      <th></th>\n",
       "      <th>song</th>\n",
       "      <th>freq</th>\n",
       "      <th>percentage</th>\n",
       "    </tr>\n",
       "  </thead>\n",
       "  <tbody>\n",
       "    <tr>\n",
       "      <th>59878</th>\n",
       "      <td>Harmonia - Sehr kosmisch</td>\n",
       "      <td>5043</td>\n",
       "      <td>0.347570</td>\n",
       "    </tr>\n",
       "    <tr>\n",
       "      <th>17175</th>\n",
       "      <td>Björk - Undo</td>\n",
       "      <td>4483</td>\n",
       "      <td>0.308974</td>\n",
       "    </tr>\n",
       "    <tr>\n",
       "      <th>42714</th>\n",
       "      <td>Dwight Yoakam - You're The One</td>\n",
       "      <td>4136</td>\n",
       "      <td>0.285058</td>\n",
       "    </tr>\n",
       "    <tr>\n",
       "      <th>51326</th>\n",
       "      <td>Florence + The Machine - Dog Days Are Over (Ra...</td>\n",
       "      <td>3780</td>\n",
       "      <td>0.260522</td>\n",
       "    </tr>\n",
       "    <tr>\n",
       "      <th>77664</th>\n",
       "      <td>Kings Of Leon - Revelry</td>\n",
       "      <td>3672</td>\n",
       "      <td>0.253079</td>\n",
       "    </tr>\n",
       "    <tr>\n",
       "      <th>104295</th>\n",
       "      <td>OneRepublic - Secrets</td>\n",
       "      <td>3430</td>\n",
       "      <td>0.236400</td>\n",
       "    </tr>\n",
       "    <tr>\n",
       "      <th>13348</th>\n",
       "      <td>Barry Tuckwell/Academy of St Martin-in-the-Fie...</td>\n",
       "      <td>3272</td>\n",
       "      <td>0.225510</td>\n",
       "    </tr>\n",
       "    <tr>\n",
       "      <th>151720</th>\n",
       "      <td>Train - Hey_ Soul Sister</td>\n",
       "      <td>2791</td>\n",
       "      <td>0.192359</td>\n",
       "    </tr>\n",
       "    <tr>\n",
       "      <th>27290</th>\n",
       "      <td>Charttraxx Karaoke - Fireflies</td>\n",
       "      <td>2725</td>\n",
       "      <td>0.187810</td>\n",
       "    </tr>\n",
       "    <tr>\n",
       "      <th>25696</th>\n",
       "      <td>Cartola - Tive Sim</td>\n",
       "      <td>2668</td>\n",
       "      <td>0.183882</td>\n",
       "    </tr>\n",
       "  </tbody>\n",
       "</table>\n",
       "</div>"
      ],
      "text/plain": [
       "                                                     song  freq  percentage\n",
       "59878                            Harmonia - Sehr kosmisch  5043    0.347570\n",
       "17175                                        Björk - Undo  4483    0.308974\n",
       "42714                      Dwight Yoakam - You're The One  4136    0.285058\n",
       "51326   Florence + The Machine - Dog Days Are Over (Ra...  3780    0.260522\n",
       "77664                             Kings Of Leon - Revelry  3672    0.253079\n",
       "104295                              OneRepublic - Secrets  3430    0.236400\n",
       "13348   Barry Tuckwell/Academy of St Martin-in-the-Fie...  3272    0.225510\n",
       "151720                           Train - Hey_ Soul Sister  2791    0.192359\n",
       "27290                      Charttraxx Karaoke - Fireflies  2725    0.187810\n",
       "25696                                  Cartola - Tive Sim  2668    0.183882"
      ]
     },
     "execution_count": 17,
     "metadata": {},
     "output_type": "execute_result"
    }
   ],
   "source": [
    "df.head(10)"
   ]
  },
  {
   "cell_type": "code",
   "execution_count": 18,
   "id": "5572bb5a",
   "metadata": {},
   "outputs": [
    {
     "data": {
      "image/png": "[encoded data removed]",
      "text/plain": [
       "<Figure size 720x288 with 1 Axes>"
      ]
     },
     "metadata": {
      "needs_background": "light"
     },
     "output_type": "display_data"
    }
   ],
   "source": [
    "plt.figure(figsize =(10, 4))\n",
    "ax=plt.subplot()\n",
    "ax.bar(df.song.head(25),df['freq'].head(25),color='b')\n",
    "ax.set_xticklabels(df.song,rotation=90,fontsize='12',horizontalalignment=\"right\")\n",
    "ax.set_title(\"Total Number of liste for each song\")\n",
    "plt.show()"
   ]
  },
  {
   "cell_type": "markdown",
   "id": "fe34e906",
   "metadata": {},
   "source": [
    "# Popularity based Recommendation using code"
   ]
  },
  {
   "cell_type": "code",
   "execution_count": 19,
   "id": "3325ad7b",
   "metadata": {},
   "outputs": [],
   "source": [
    "def popularity(train,title,user_id):\n",
    "    train_data_grouped = train.groupby([title]).agg({user_id: 'count'}).reset_index()\n",
    "    train_data_grouped.rename(columns = {'user_id': 'score'},inplace=True)\n",
    "    train_data_sort=train_data_grouped.sort_values(['score',title],ascending=[0,1])\n",
    "    train_data_sort['Rank'] = train_data_sort['score'].rank(ascending=0, method='first')\n",
    "    popularity_recommendations=train_data_sort.head(20)\n",
    "    return popularity_recommendations"
   ]
  },
  {
   "cell_type": "code",
   "execution_count": 20,
   "id": "cd521615",
   "metadata": {},
   "outputs": [
    {
     "data": {
      "text/html": [
       "<div>\n",
       "<style scoped>\n",
       "    .dataframe tbody tr th:only-of-type {\n",
       "        vertical-align: middle;\n",
       "    }\n",
       "\n",
       "    .dataframe tbody tr th {\n",
       "        vertical-align: top;\n",
       "    }\n",
       "\n",
       "    .dataframe thead th {\n",
       "        text-align: right;\n",
       "    }\n",
       "</style>\n",
       "<table border=\"1\" class=\"dataframe\">\n",
       "  <thead>\n",
       "    <tr style=\"text-align: right;\">\n",
       "      <th></th>\n",
       "      <th>song</th>\n",
       "      <th>score</th>\n",
       "      <th>Rank</th>\n",
       "    </tr>\n",
       "  </thead>\n",
       "  <tbody>\n",
       "    <tr>\n",
       "      <th>59878</th>\n",
       "      <td>Harmonia - Sehr kosmisch</td>\n",
       "      <td>5043</td>\n",
       "      <td>1.0</td>\n",
       "    </tr>\n",
       "    <tr>\n",
       "      <th>17175</th>\n",
       "      <td>Björk - Undo</td>\n",
       "      <td>4483</td>\n",
       "      <td>2.0</td>\n",
       "    </tr>\n",
       "    <tr>\n",
       "      <th>42714</th>\n",
       "      <td>Dwight Yoakam - You're The One</td>\n",
       "      <td>4136</td>\n",
       "      <td>3.0</td>\n",
       "    </tr>\n",
       "    <tr>\n",
       "      <th>51326</th>\n",
       "      <td>Florence + The Machine - Dog Days Are Over (Ra...</td>\n",
       "      <td>3780</td>\n",
       "      <td>4.0</td>\n",
       "    </tr>\n",
       "    <tr>\n",
       "      <th>77664</th>\n",
       "      <td>Kings Of Leon - Revelry</td>\n",
       "      <td>3672</td>\n",
       "      <td>5.0</td>\n",
       "    </tr>\n",
       "    <tr>\n",
       "      <th>104295</th>\n",
       "      <td>OneRepublic - Secrets</td>\n",
       "      <td>3430</td>\n",
       "      <td>6.0</td>\n",
       "    </tr>\n",
       "    <tr>\n",
       "      <th>13348</th>\n",
       "      <td>Barry Tuckwell/Academy of St Martin-in-the-Fie...</td>\n",
       "      <td>3272</td>\n",
       "      <td>7.0</td>\n",
       "    </tr>\n",
       "    <tr>\n",
       "      <th>151720</th>\n",
       "      <td>Train - Hey_ Soul Sister</td>\n",
       "      <td>2791</td>\n",
       "      <td>8.0</td>\n",
       "    </tr>\n",
       "    <tr>\n",
       "      <th>27290</th>\n",
       "      <td>Charttraxx Karaoke - Fireflies</td>\n",
       "      <td>2725</td>\n",
       "      <td>9.0</td>\n",
       "    </tr>\n",
       "    <tr>\n",
       "      <th>25696</th>\n",
       "      <td>Cartola - Tive Sim</td>\n",
       "      <td>2668</td>\n",
       "      <td>10.0</td>\n",
       "    </tr>\n",
       "    <tr>\n",
       "      <th>154186</th>\n",
       "      <td>Usher featuring will.i.am - OMG</td>\n",
       "      <td>2260</td>\n",
       "      <td>11.0</td>\n",
       "    </tr>\n",
       "    <tr>\n",
       "      <th>82891</th>\n",
       "      <td>Lil Wayne / Eminem - Drop The World</td>\n",
       "      <td>2226</td>\n",
       "      <td>12.0</td>\n",
       "    </tr>\n",
       "    <tr>\n",
       "      <th>84536</th>\n",
       "      <td>Lonnie Gordon - Catch You Baby (Steve Pitron &amp;...</td>\n",
       "      <td>2097</td>\n",
       "      <td>13.0</td>\n",
       "    </tr>\n",
       "    <tr>\n",
       "      <th>151733</th>\n",
       "      <td>Train - Marry Me</td>\n",
       "      <td>1990</td>\n",
       "      <td>14.0</td>\n",
       "    </tr>\n",
       "    <tr>\n",
       "      <th>77671</th>\n",
       "      <td>Kings Of Leon - Use Somebody</td>\n",
       "      <td>1911</td>\n",
       "      <td>15.0</td>\n",
       "    </tr>\n",
       "    <tr>\n",
       "      <th>5877</th>\n",
       "      <td>Alliance Ethnik - Sincerité Et Jalousie</td>\n",
       "      <td>1797</td>\n",
       "      <td>16.0</td>\n",
       "    </tr>\n",
       "    <tr>\n",
       "      <th>5874</th>\n",
       "      <td>Alliance Ethnik - Représente</td>\n",
       "      <td>1769</td>\n",
       "      <td>17.0</td>\n",
       "    </tr>\n",
       "    <tr>\n",
       "      <th>50927</th>\n",
       "      <td>Five Iron Frenzy - Canada</td>\n",
       "      <td>1727</td>\n",
       "      <td>18.0</td>\n",
       "    </tr>\n",
       "    <tr>\n",
       "      <th>120261</th>\n",
       "      <td>Sam Cooke - Ain't Misbehavin</td>\n",
       "      <td>1712</td>\n",
       "      <td>19.0</td>\n",
       "    </tr>\n",
       "    <tr>\n",
       "      <th>76963</th>\n",
       "      <td>Kid Cudi / MGMT / Ratatat - Pursuit Of Happine...</td>\n",
       "      <td>1683</td>\n",
       "      <td>20.0</td>\n",
       "    </tr>\n",
       "  </tbody>\n",
       "</table>\n",
       "</div>"
      ],
      "text/plain": [
       "                                                     song  score  Rank\n",
       "59878                            Harmonia - Sehr kosmisch   5043   1.0\n",
       "17175                                        Björk - Undo   4483   2.0\n",
       "42714                      Dwight Yoakam - You're The One   4136   3.0\n",
       "51326   Florence + The Machine - Dog Days Are Over (Ra...   3780   4.0\n",
       "77664                             Kings Of Leon - Revelry   3672   5.0\n",
       "104295                              OneRepublic - Secrets   3430   6.0\n",
       "13348   Barry Tuckwell/Academy of St Martin-in-the-Fie...   3272   7.0\n",
       "151720                           Train - Hey_ Soul Sister   2791   8.0\n",
       "27290                      Charttraxx Karaoke - Fireflies   2725   9.0\n",
       "25696                                  Cartola - Tive Sim   2668  10.0\n",
       "154186                    Usher featuring will.i.am - OMG   2260  11.0\n",
       "82891                 Lil Wayne / Eminem - Drop The World   2226  12.0\n",
       "84536   Lonnie Gordon - Catch You Baby (Steve Pitron &...   2097  13.0\n",
       "151733                                   Train - Marry Me   1990  14.0\n",
       "77671                        Kings Of Leon - Use Somebody   1911  15.0\n",
       "5877              Alliance Ethnik - Sincerité Et Jalousie   1797  16.0\n",
       "5874                         Alliance Ethnik - Représente   1769  17.0\n",
       "50927                           Five Iron Frenzy - Canada   1727  18.0\n",
       "120261                       Sam Cooke - Ain't Misbehavin   1712  19.0\n",
       "76963   Kid Cudi / MGMT / Ratatat - Pursuit Of Happine...   1683  20.0"
      ]
     },
     "execution_count": 20,
     "metadata": {},
     "output_type": "execute_result"
    }
   ],
   "source": [
    "popularity(song_df,'song','user_id')"
   ]
  },
  {
   "cell_type": "markdown",
   "id": "ac657443",
   "metadata": {},
   "source": [
    "# Popularity based Recommendation using oops "
   ]
  },
  {
   "cell_type": "code",
   "execution_count": 21,
   "id": "9aa2d35a",
   "metadata": {},
   "outputs": [],
   "source": [
    "import Recommender"
   ]
  },
  {
   "cell_type": "code",
   "execution_count": 22,
   "id": "42f20bde",
   "metadata": {},
   "outputs": [],
   "source": [
    "pr = Recommender.popularity_recommender_py()"
   ]
  },
  {
   "cell_type": "code",
   "execution_count": 23,
   "id": "16a89345",
   "metadata": {},
   "outputs": [],
   "source": [
    "pr.create(song_df, 'user_id', 'song')"
   ]
  },
  {
   "cell_type": "code",
   "execution_count": 24,
   "id": "1817bea8",
   "metadata": {},
   "outputs": [
    {
     "data": {
      "text/html": [
       "<div>\n",
       "<style scoped>\n",
       "    .dataframe tbody tr th:only-of-type {\n",
       "        vertical-align: middle;\n",
       "    }\n",
       "\n",
       "    .dataframe tbody tr th {\n",
       "        vertical-align: top;\n",
       "    }\n",
       "\n",
       "    .dataframe thead th {\n",
       "        text-align: right;\n",
       "    }\n",
       "</style>\n",
       "<table border=\"1\" class=\"dataframe\">\n",
       "  <thead>\n",
       "    <tr style=\"text-align: right;\">\n",
       "      <th></th>\n",
       "      <th>user_id</th>\n",
       "      <th>song</th>\n",
       "      <th>score</th>\n",
       "      <th>Rank</th>\n",
       "    </tr>\n",
       "  </thead>\n",
       "  <tbody>\n",
       "    <tr>\n",
       "      <th>59878</th>\n",
       "      <td>c5006d9f41f68ccccbf5ee29212b6af494110c5e</td>\n",
       "      <td>Harmonia - Sehr kosmisch</td>\n",
       "      <td>5043</td>\n",
       "      <td>1.0</td>\n",
       "    </tr>\n",
       "    <tr>\n",
       "      <th>17175</th>\n",
       "      <td>c5006d9f41f68ccccbf5ee29212b6af494110c5e</td>\n",
       "      <td>Björk - Undo</td>\n",
       "      <td>4483</td>\n",
       "      <td>2.0</td>\n",
       "    </tr>\n",
       "    <tr>\n",
       "      <th>42714</th>\n",
       "      <td>c5006d9f41f68ccccbf5ee29212b6af494110c5e</td>\n",
       "      <td>Dwight Yoakam - You're The One</td>\n",
       "      <td>4136</td>\n",
       "      <td>3.0</td>\n",
       "    </tr>\n",
       "    <tr>\n",
       "      <th>51326</th>\n",
       "      <td>c5006d9f41f68ccccbf5ee29212b6af494110c5e</td>\n",
       "      <td>Florence + The Machine - Dog Days Are Over (Ra...</td>\n",
       "      <td>3780</td>\n",
       "      <td>4.0</td>\n",
       "    </tr>\n",
       "    <tr>\n",
       "      <th>77664</th>\n",
       "      <td>c5006d9f41f68ccccbf5ee29212b6af494110c5e</td>\n",
       "      <td>Kings Of Leon - Revelry</td>\n",
       "      <td>3672</td>\n",
       "      <td>5.0</td>\n",
       "    </tr>\n",
       "    <tr>\n",
       "      <th>104295</th>\n",
       "      <td>c5006d9f41f68ccccbf5ee29212b6af494110c5e</td>\n",
       "      <td>OneRepublic - Secrets</td>\n",
       "      <td>3430</td>\n",
       "      <td>6.0</td>\n",
       "    </tr>\n",
       "    <tr>\n",
       "      <th>13348</th>\n",
       "      <td>c5006d9f41f68ccccbf5ee29212b6af494110c5e</td>\n",
       "      <td>Barry Tuckwell/Academy of St Martin-in-the-Fie...</td>\n",
       "      <td>3272</td>\n",
       "      <td>7.0</td>\n",
       "    </tr>\n",
       "    <tr>\n",
       "      <th>151720</th>\n",
       "      <td>c5006d9f41f68ccccbf5ee29212b6af494110c5e</td>\n",
       "      <td>Train - Hey_ Soul Sister</td>\n",
       "      <td>2791</td>\n",
       "      <td>8.0</td>\n",
       "    </tr>\n",
       "    <tr>\n",
       "      <th>27290</th>\n",
       "      <td>c5006d9f41f68ccccbf5ee29212b6af494110c5e</td>\n",
       "      <td>Charttraxx Karaoke - Fireflies</td>\n",
       "      <td>2725</td>\n",
       "      <td>9.0</td>\n",
       "    </tr>\n",
       "    <tr>\n",
       "      <th>25696</th>\n",
       "      <td>c5006d9f41f68ccccbf5ee29212b6af494110c5e</td>\n",
       "      <td>Cartola - Tive Sim</td>\n",
       "      <td>2668</td>\n",
       "      <td>10.0</td>\n",
       "    </tr>\n",
       "  </tbody>\n",
       "</table>\n",
       "</div>"
      ],
      "text/plain": [
       "                                         user_id  \\\n",
       "59878   c5006d9f41f68ccccbf5ee29212b6af494110c5e   \n",
       "17175   c5006d9f41f68ccccbf5ee29212b6af494110c5e   \n",
       "42714   c5006d9f41f68ccccbf5ee29212b6af494110c5e   \n",
       "51326   c5006d9f41f68ccccbf5ee29212b6af494110c5e   \n",
       "77664   c5006d9f41f68ccccbf5ee29212b6af494110c5e   \n",
       "104295  c5006d9f41f68ccccbf5ee29212b6af494110c5e   \n",
       "13348   c5006d9f41f68ccccbf5ee29212b6af494110c5e   \n",
       "151720  c5006d9f41f68ccccbf5ee29212b6af494110c5e   \n",
       "27290   c5006d9f41f68ccccbf5ee29212b6af494110c5e   \n",
       "25696   c5006d9f41f68ccccbf5ee29212b6af494110c5e   \n",
       "\n",
       "                                                     song  score  Rank  \n",
       "59878                            Harmonia - Sehr kosmisch   5043   1.0  \n",
       "17175                                        Björk - Undo   4483   2.0  \n",
       "42714                      Dwight Yoakam - You're The One   4136   3.0  \n",
       "51326   Florence + The Machine - Dog Days Are Over (Ra...   3780   4.0  \n",
       "77664                             Kings Of Leon - Revelry   3672   5.0  \n",
       "104295                              OneRepublic - Secrets   3430   6.0  \n",
       "13348   Barry Tuckwell/Academy of St Martin-in-the-Fie...   3272   7.0  \n",
       "151720                           Train - Hey_ Soul Sister   2791   8.0  \n",
       "27290                      Charttraxx Karaoke - Fireflies   2725   9.0  \n",
       "25696                                  Cartola - Tive Sim   2668  10.0  "
      ]
     },
     "execution_count": 24,
     "metadata": {},
     "output_type": "execute_result"
    }
   ],
   "source": [
    "pr.recommend(song_df['user_id'][2])"
   ]
  },
  {
   "cell_type": "code",
   "execution_count": null,
   "id": "ded57f21",
   "metadata": {},
   "outputs": [],
   "source": []
  }
 ],
 "metadata": {
  "kernelspec": {
   "display_name": "Python 3",
   "language": "python",
   "name": "python3"
  },
  "language_info": {
   "codemirror_mode": {
    "name": "ipython",
    "version": 3
   },
   "file_extension": ".py",
   "mimetype": "text/x-python",
   "name": "python",
   "nbconvert_exporter": "python",
   "pygments_lexer": "ipython3",
   "version": "3.8.8"
  }
 },
 "nbformat": 4,
 "nbformat_minor": 5
}
